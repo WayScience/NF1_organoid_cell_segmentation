{
  "cells": [
    {
      "cell_type": "code",
      "metadata": {
        "jukit_cell_id": "SJRJJQg9bl"
      },
      "source": [
        "import pathlib\n",
        "import sys\n",
        "import tempfile\n",
        "\n",
        "import numpy as np\n",
        "import tifffile\n",
        "from nviz.image import tiff_to_zarr\n",
        "from nviz.view import view_zarr_with_napari"
      ],
      "outputs": [],
      "execution_count": null
    },
    {
      "cell_type": "markdown",
      "metadata": {
        "jukit_cell_id": "gCB7v5DWXR"
      },
      "source": [
        "# Inputs"
      ]
    },
    {
      "cell_type": "code",
      "metadata": {
        "jukit_cell_id": "WikowAu85E"
      },
      "source": [
        "original_img_dir_path = pathlib.Path(\"temp_example\").resolve(strict=True)\n",
        "img_dir_paths = {tif_file for tif_file in original_img_dir_path.rglob(\"*.tif*\")}"
      ],
      "outputs": [],
      "execution_count": null
    },
    {
      "cell_type": "markdown",
      "metadata": {
        "jukit_cell_id": "jdei3LohYa"
      },
      "source": [
        "# Parameters\n",
        "Came from the microscope"
      ]
    },
    {
      "cell_type": "code",
      "metadata": {
        "jukit_cell_id": "dBrcS9cJKV"
      },
      "source": [
        "scaling_values = [1.0, 0.1, 0.1]"
      ],
      "outputs": [],
      "execution_count": null
    },
    {
      "cell_type": "markdown",
      "metadata": {
        "jukit_cell_id": "fs2zGngOsp"
      },
      "source": [
        "# Split, Convert, and View Images"
      ]
    },
    {
      "cell_type": "code",
      "metadata": {
        "jukit_cell_id": "CS62SbkulZ"
      },
      "source": [
        "with tempfile.TemporaryDirectory() as tmpdir:\n",
        "    temp_img_dir_path = pathlib.Path(tmpdir) / \"tiff_images\"\n",
        "    temp_img_dir_path.mkdir(parents=True, exist_ok=True)\n",
        "\n",
        "    temp_zarr_dir_path = pathlib.Path(tmpdir) / \"zarr_output\"\n",
        "    temp_zarr_dir_path.mkdir(parents=True, exist_ok=True)\n",
        "\n",
        "    for img_path in img_dir_paths:\n",
        "\n",
        "        image = tifffile.imread(img_path)\n",
        "        image_dir = img_path.relative_to(original_img_dir_path)\n",
        "\n",
        "        # Save 2D representations of 3D tiff images\n",
        "        # nViz can't convert 3D tiff images to an OME-tiff or OME-zarr format yet\n",
        "        for zslice_idx in range(image.shape[0]):\n",
        "            save_path = temp_img_dir_path / image_dir\n",
        "            pathlib.Path(save_path.parent).mkdir(parents=True, exist_ok=True)\n",
        "            save_path = save_path.with_name(\n",
        "                f\"{save_path.stem}_{zslice_idx:02d}{save_path.suffix}\"\n",
        "            )\n",
        "            tifffile.imwrite(save_path, image[zslice_idx])\n",
        "            thresholded_segmentations_save_path = save_path.parent\n",
        "\n",
        "            segmentation_image_path = (\n",
        "                thresholded_segmentations_save_path\n",
        "                / f\"3D_generated-segmentation_{zslice_idx:02d}.tiff\"\n",
        "            )\n",
        "\n",
        "            # Save 2D thresholded segmentations images\n",
        "            if not segmentation_image_path.exists():\n",
        "                tifffile.imwrite(\n",
        "                    segmentation_image_path,\n",
        "                    (image[zslice_idx] >= 55).astype(np.uint8) * 255,\n",
        "                )\n",
        "\n",
        "    tiff_to_zarr(\n",
        "        image_dir=save_path.parent,\n",
        "        output_path=temp_zarr_dir_path / \"output.zarr\",\n",
        "        channel_map={\n",
        "            \"TRANS\": \"Brightfield\",\n",
        "            \"prediction_background\": \"Predicted Background Probabilities\",\n",
        "            \"prediction_cell\": \"Predicted Cell Boundary Probabilities\",\n",
        "            \"prediction_inner\": \"Predicted Inner-Cell Probabilities\",\n",
        "            \"target_background\": \"Target Background Segmentation\",\n",
        "            \"target_cell\": \"Target Cell Boundary Segmentation\",\n",
        "            \"target_inner\": \"Target Inner-Cell Segmentation\",\n",
        "        },\n",
        "        scaling_values=scaling_values,\n",
        "    )\n",
        "\n",
        "    viewer = view_zarr_with_napari(\n",
        "        zarr_dir=temp_zarr_dir_path / \"output.zarr\",\n",
        "        scaling_values=scaling_values,\n",
        "        headless=False,\n",
        "    )"
      ],
      "outputs": [],
      "execution_count": null
    }
  ],
  "metadata": {
    "anaconda-cloud": {},
    "kernelspec": {
      "display_name": "python",
      "language": "python",
      "name": "python3"
    }
  },
  "nbformat": 4,
  "nbformat_minor": 4
}