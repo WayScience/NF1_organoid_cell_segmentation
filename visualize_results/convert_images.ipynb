{
  "cells": [
    {
      "cell_type": "markdown",
      "metadata": {
        "jukit_cell_id": "v4hTsDPzNq"
      },
      "source": [
        "# Convert Images\n",
        "Convert 3D tiff images to a format that can visualized by nViz."
      ]
    },
    {
      "cell_type": "code",
      "metadata": {
        "jukit_cell_id": "8PUVwERmui"
      },
      "source": [
        "import pathlib\n",
        "import sys\n",
        "\n",
        "import numpy as np\n",
        "import pandas as pd\n",
        "import tifffile"
      ],
      "outputs": [],
      "execution_count": null
    },
    {
      "cell_type": "markdown",
      "metadata": {
        "jukit_cell_id": "ffchTZVcMC"
      },
      "source": [
        "# Inputs\n",
        "Path to the images"
      ]
    },
    {
      "cell_type": "code",
      "metadata": {
        "jukit_cell_id": "BAK37X1T91"
      },
      "source": [
        "artifacts_path = pathlib.Path(sys.argv[1])\n",
        "img_dir_paths = {tif_file for tif_file in artifacts_path.rglob(\"*.tif*\")}"
      ],
      "outputs": [],
      "execution_count": null
    },
    {
      "cell_type": "markdown",
      "metadata": {
        "jukit_cell_id": "pbcRx20UBO"
      },
      "source": [
        "# Outputs"
      ]
    },
    {
      "cell_type": "code",
      "metadata": {
        "jukit_cell_id": "0Ngh7BxR8n"
      },
      "source": [
        "modified_artifacts_path = pathlib.Path(sys.argv[2])"
      ],
      "outputs": [],
      "execution_count": null
    },
    {
      "cell_type": "code",
      "metadata": {
        "jukit_cell_id": "9zwyoaOezY"
      },
      "source": [
        "for img_path in img_dir_paths:\n",
        "\n",
        "    image = tifffile.imread(img_path)\n",
        "    image_dir = img_path.relative_to(artifacts_path)\n",
        "\n",
        "    # Save 2D representations of 3D tiff images\n",
        "    for zslice_idx in range(image.shape[0]):\n",
        "        save_path = modified_artifacts_path / image_dir\n",
        "        pathlib.Path(save_path.parent).mkdir(parents=True, exist_ok=True)\n",
        "        save_path = save_path.with_name(\n",
        "            f\"{save_path.stem}_{zslice_idx:02d}{save_path.suffix}\"\n",
        "        )\n",
        "        tifffile.imwrite(save_path, image[zslice_idx])\n",
        "        thresholded_segmentations_save_path = save_path.parent\n",
        "\n",
        "        # Save 2D thresholded segmentations images\n",
        "        tifffile.imwrite(\n",
        "            thresholded_segmentations_save_path\n",
        "            / f\"3D_generated-segmentation_{zslice_idx}.tiff\",\n",
        "            (image[zslice_idx] >= 55).astype(np.uint8) * 255,\n",
        "        )"
      ],
      "outputs": [],
      "execution_count": null
    }
  ],
  "metadata": {
    "anaconda-cloud": {},
    "kernelspec": {
      "display_name": "python",
      "language": "python",
      "name": "python3"
    }
  },
  "nbformat": 4,
  "nbformat_minor": 4
}